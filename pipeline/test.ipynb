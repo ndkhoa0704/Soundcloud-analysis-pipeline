{
 "cells": [
  {
   "cell_type": "code",
   "execution_count": 1,
   "metadata": {},
   "outputs": [],
   "source": [
    "from selenium.webdriver import Chrome\n",
    "from selenium.webdriver.chrome.options import Options\n",
    "from selenium.webdriver.chrome.service import Service\n",
    "import requests\n",
    "import re\n",
    "import pandas as pd"
   ]
  },
  {
   "cell_type": "code",
   "execution_count": 2,
   "metadata": {},
   "outputs": [],
   "source": [
    "option = Options()\n",
    "option.add_argument('headless')\n",
    "service = Service('../chromedriver')\n",
    "driver = Chrome(options=option,service=service)"
   ]
  },
  {
   "cell_type": "code",
   "execution_count": 12,
   "metadata": {},
   "outputs": [],
   "source": [
    "driver.get('https://soundcloud.com')\n",
    "log = driver.get_log('browser')"
   ]
  },
  {
   "cell_type": "code",
   "execution_count": 13,
   "metadata": {},
   "outputs": [],
   "source": [
    "client_id = re.search(r\"client_id=(.*?)\\&\",log[0]['message']).group(1)"
   ]
  },
  {
   "cell_type": "code",
   "execution_count": 14,
   "metadata": {},
   "outputs": [
    {
     "data": {
      "text/plain": [
       "'BmI0Zgypr3dPccFBK9QLjkCpCgvowlzQ'"
      ]
     },
     "execution_count": 14,
     "metadata": {},
     "output_type": "execute_result"
    }
   ],
   "source": [
    "client_id"
   ]
  },
  {
   "cell_type": "code",
   "execution_count": 7,
   "metadata": {},
   "outputs": [],
   "source": [
    "response = requests.get(f'https://api-v2.soundcloud.com/users/{125}/tracks?client_id={client_id}')"
   ]
  },
  {
   "cell_type": "code",
   "execution_count": 15,
   "metadata": {},
   "outputs": [],
   "source": [
    "response = requests.get(\n",
    "                f'https://api-v2.soundcloud.com/users/{125}?client_id={client_id}')"
   ]
  },
  {
   "cell_type": "code",
   "execution_count": 18,
   "metadata": {},
   "outputs": [
    {
     "data": {
      "text/plain": [
       "{'avatar_url': 'https://i1.sndcdn.com/avatars-000063423129-e1mu8b-large.jpg',\n",
       " 'city': 'Berlin',\n",
       " 'comments_count': 1,\n",
       " 'country_code': 'DE',\n",
       " 'created_at': '2007-09-12T11:27:37Z',\n",
       " 'creator_subscriptions': [{'product': {'id': 'free'}}],\n",
       " 'creator_subscription': {'product': {'id': 'free'}},\n",
       " 'description': 'headphones are for your ears',\n",
       " 'followers_count': 166,\n",
       " 'followings_count': 20,\n",
       " 'first_name': 'danski',\n",
       " 'full_name': 'danski',\n",
       " 'groups_count': 0,\n",
       " 'id': 125,\n",
       " 'kind': 'user',\n",
       " 'last_modified': '2015-04-06T09:36:50Z',\n",
       " 'last_name': '',\n",
       " 'likes_count': 2,\n",
       " 'playlist_likes_count': 0,\n",
       " 'permalink': 'dminum',\n",
       " 'permalink_url': 'https://soundcloud.com/dminum',\n",
       " 'playlist_count': 2,\n",
       " 'reposts_count': None,\n",
       " 'track_count': 21,\n",
       " 'uri': 'https://api.soundcloud.com/users/125',\n",
       " 'urn': 'soundcloud:users:125',\n",
       " 'username': 'd_minum',\n",
       " 'verified': False,\n",
       " 'visuals': None,\n",
       " 'badges': {'pro': False, 'pro_unlimited': False, 'verified': False},\n",
       " 'station_urn': 'soundcloud:system-playlists:artist-stations:125',\n",
       " 'station_permalink': 'artist-stations:125'}"
      ]
     },
     "execution_count": 18,
     "metadata": {},
     "output_type": "execute_result"
    }
   ],
   "source": [
    "response.json()"
   ]
  },
  {
   "cell_type": "code",
   "execution_count": null,
   "metadata": {},
   "outputs": [],
   "source": [
    "data = pd.DataFrame(columns=[1,2,3,4],data=[1,2,3,4])"
   ]
  }
 ],
 "metadata": {
  "interpreter": {
   "hash": "3428c19b43956c90bcd462da083b334446d292c6b6cc0db585b2ff20a9876f95"
  },
  "kernelspec": {
   "display_name": "Python 3.10.2 ('workenv')",
   "language": "python",
   "name": "python3"
  },
  "language_info": {
   "codemirror_mode": {
    "name": "ipython",
    "version": 3
   },
   "file_extension": ".py",
   "mimetype": "text/x-python",
   "name": "python",
   "nbconvert_exporter": "python",
   "pygments_lexer": "ipython3",
   "version": "3.10.2"
  },
  "orig_nbformat": 4
 },
 "nbformat": 4,
 "nbformat_minor": 2
}
